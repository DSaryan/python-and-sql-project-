{
 "cells": [
  {
   "cell_type": "markdown",
   "metadata": {
    "id": "cSDKVE7O_YZ0"
   },
   "source": [
    "***PYTHON PROJECT ON E-COMMERCE ***\n",
    "\n",
    "**NAME :- ARYAN SHARMA**\n"
   ]
  },
  {
   "cell_type": "code",
   "execution_count": 1,
   "metadata": {
    "id": "sh5tZig5-3M8"
   },
   "outputs": [],
   "source": [
    "import numpy as np\n",
    "import pandas as pd\n",
    "import matplotlib.pyplot as plt\n",
    "import seaborn as sns\n",
    "%matplotlib inline\n",
    "import datetime  \n",
    "import warnings\n",
    "warnings.filterwarnings('ignore')"
   ]
  },
  {
   "cell_type": "code",
   "execution_count": 2,
   "metadata": {
    "id": "_aX3298Z-3NF"
   },
   "outputs": [],
   "source": [
    "ecom = pd.read_csv('C:\\\\Users\\\\h\\\\Desktop\\\\Ecommerce - UK Retailer.csv', encoding=('ISO-8859-1'))"
   ]
  },
  {
   "cell_type": "code",
   "execution_count": 3,
   "metadata": {
    "id": "GsuYjkxO-3NG",
    "outputId": "1ac83f26-7eab-47e9-9271-06f9edbcd670"
   },
   "outputs": [
    {
     "data": {
      "text/html": [
       "<div>\n",
       "<style scoped>\n",
       "    .dataframe tbody tr th:only-of-type {\n",
       "        vertical-align: middle;\n",
       "    }\n",
       "\n",
       "    .dataframe tbody tr th {\n",
       "        vertical-align: top;\n",
       "    }\n",
       "\n",
       "    .dataframe thead th {\n",
       "        text-align: right;\n",
       "    }\n",
       "</style>\n",
       "<table border=\"1\" class=\"dataframe\">\n",
       "  <thead>\n",
       "    <tr style=\"text-align: right;\">\n",
       "      <th></th>\n",
       "      <th>InvoiceNo</th>\n",
       "      <th>StockCode</th>\n",
       "      <th>Description</th>\n",
       "      <th>Quantity</th>\n",
       "      <th>InvoiceDate</th>\n",
       "      <th>UnitPrice</th>\n",
       "      <th>CustomerID</th>\n",
       "      <th>Country</th>\n",
       "    </tr>\n",
       "  </thead>\n",
       "  <tbody>\n",
       "    <tr>\n",
       "      <th>0</th>\n",
       "      <td>536365</td>\n",
       "      <td>85123A</td>\n",
       "      <td>WHITE HANGING HEART T-LIGHT HOLDER</td>\n",
       "      <td>6</td>\n",
       "      <td>12-01-10 8:26</td>\n",
       "      <td>2.55</td>\n",
       "      <td>17850.0</td>\n",
       "      <td>United Kingdom</td>\n",
       "    </tr>\n",
       "    <tr>\n",
       "      <th>1</th>\n",
       "      <td>536365</td>\n",
       "      <td>71053</td>\n",
       "      <td>WHITE METAL LANTERN</td>\n",
       "      <td>6</td>\n",
       "      <td>12-01-10 8:26</td>\n",
       "      <td>3.39</td>\n",
       "      <td>17850.0</td>\n",
       "      <td>United Kingdom</td>\n",
       "    </tr>\n",
       "    <tr>\n",
       "      <th>2</th>\n",
       "      <td>536365</td>\n",
       "      <td>84406B</td>\n",
       "      <td>CREAM CUPID HEARTS COAT HANGER</td>\n",
       "      <td>8</td>\n",
       "      <td>12-01-10 8:26</td>\n",
       "      <td>2.75</td>\n",
       "      <td>17850.0</td>\n",
       "      <td>United Kingdom</td>\n",
       "    </tr>\n",
       "    <tr>\n",
       "      <th>3</th>\n",
       "      <td>536365</td>\n",
       "      <td>84029G</td>\n",
       "      <td>KNITTED UNION FLAG HOT WATER BOTTLE</td>\n",
       "      <td>6</td>\n",
       "      <td>12-01-10 8:26</td>\n",
       "      <td>3.39</td>\n",
       "      <td>17850.0</td>\n",
       "      <td>United Kingdom</td>\n",
       "    </tr>\n",
       "    <tr>\n",
       "      <th>4</th>\n",
       "      <td>536365</td>\n",
       "      <td>84029E</td>\n",
       "      <td>RED WOOLLY HOTTIE WHITE HEART.</td>\n",
       "      <td>6</td>\n",
       "      <td>12-01-10 8:26</td>\n",
       "      <td>3.39</td>\n",
       "      <td>17850.0</td>\n",
       "      <td>United Kingdom</td>\n",
       "    </tr>\n",
       "  </tbody>\n",
       "</table>\n",
       "</div>"
      ],
      "text/plain": [
       "  InvoiceNo StockCode                          Description  Quantity  \\\n",
       "0    536365    85123A   WHITE HANGING HEART T-LIGHT HOLDER         6   \n",
       "1    536365     71053                  WHITE METAL LANTERN         6   \n",
       "2    536365    84406B       CREAM CUPID HEARTS COAT HANGER         8   \n",
       "3    536365    84029G  KNITTED UNION FLAG HOT WATER BOTTLE         6   \n",
       "4    536365    84029E       RED WOOLLY HOTTIE WHITE HEART.         6   \n",
       "\n",
       "     InvoiceDate  UnitPrice  CustomerID         Country  \n",
       "0  12-01-10 8:26       2.55     17850.0  United Kingdom  \n",
       "1  12-01-10 8:26       3.39     17850.0  United Kingdom  \n",
       "2  12-01-10 8:26       2.75     17850.0  United Kingdom  \n",
       "3  12-01-10 8:26       3.39     17850.0  United Kingdom  \n",
       "4  12-01-10 8:26       3.39     17850.0  United Kingdom  "
      ]
     },
     "execution_count": 3,
     "metadata": {},
     "output_type": "execute_result"
    }
   ],
   "source": [
    "ecom.head()"
   ]
  },
  {
   "cell_type": "markdown",
   "metadata": {
    "id": "zol3q5q7-3NI"
   },
   "source": [
    "# 1. Perform Basic EDA "
   ]
  },
  {
   "cell_type": "code",
   "execution_count": 4,
   "metadata": {
    "id": "MJSzRDWg-3NL",
    "outputId": "722248b8-1c13-4ecd-e81c-22a9a41ff2c5"
   },
   "outputs": [
    {
     "data": {
      "text/plain": [
       "InvoiceNo       object\n",
       "StockCode       object\n",
       "Description     object\n",
       "Quantity         int64\n",
       "InvoiceDate     object\n",
       "UnitPrice      float64\n",
       "CustomerID     float64\n",
       "Country         object\n",
       "dtype: object"
      ]
     },
     "execution_count": 4,
     "metadata": {},
     "output_type": "execute_result"
    }
   ],
   "source": [
    "ecom.dtypes "
   ]
  },
  {
   "cell_type": "markdown",
   "metadata": {
    "id": "wgV66QEI-3NM"
   },
   "source": [
    "Only Quantity is a integer numeric type "
   ]
  },
  {
   "cell_type": "code",
   "execution_count": 5,
   "metadata": {
    "id": "euPas6ES-3NN",
    "outputId": "571420ec-b54c-4dfd-a244-6bc9af8a3493",
    "scrolled": true
   },
   "outputs": [
    {
     "data": {
      "image/png": "[encoded data removed]",
      "text/plain": [
       "<Figure size 432x288 with 1 Axes>"
      ]
     },
     "metadata": {},
     "output_type": "display_data"
    },
    {
     "data": {
      "image/png": "[encoded data removed]",
      "text/plain": [
       "<Figure size 432x288 with 1 Axes>"
      ]
     },
     "metadata": {},
     "output_type": "display_data"
    }
   ],
   "source": [
    "# a. Boxplot – All Numeric Variables\n",
    "sns.set()\n",
    "plt.boxplot(ecom.Quantity)\n",
    "plt.show()\n",
    "plt.boxplot(ecom.UnitPrice)\n",
    "plt.show()"
   ]
  },
  {
   "cell_type": "code",
   "execution_count": 6,
   "metadata": {
    "id": "6ChwI6Lf-3NP",
    "outputId": "130fdadf-392a-4e87-b91a-31d00f9074b1"
   },
   "outputs": [
    {
     "data": {
      "text/plain": [
       "array([[<AxesSubplot:title={'center':'Quantity'}>,\n",
       "        <AxesSubplot:title={'center':'UnitPrice'}>],\n",
       "       [<AxesSubplot:title={'center':'CustomerID'}>, <AxesSubplot:>]],\n",
       "      dtype=object)"
      ]
     },
     "execution_count": 6,
     "metadata": {},
     "output_type": "execute_result"
    },
    {
     "data": {
      "image/png": "[encoded data removed]",
      "text/plain": [
       "<Figure size 1080x576 with 4 Axes>"
      ]
     },
     "metadata": {},
     "output_type": "display_data"
    }
   ],
   "source": [
    "# b. Histogram – All Numeric Variables\n",
    "\n",
    "sns.set()\n",
    "ecom.hist(color='violet',figsize=(15,8))"
   ]
  },
  {
   "cell_type": "code",
   "execution_count": 7,
   "metadata": {
    "id": "qJvo6Gd_-3NR",
    "outputId": "af9c210f-9a93-4cdf-b169-398a05ee8012"
   },
   "outputs": [
    {
     "data": {
      "image/png": "[encoded data removed]",
      "text/plain": [
       "<Figure size 432x288 with 1 Axes>"
      ]
     },
     "metadata": {},
     "output_type": "display_data"
    },
    {
     "data": {
      "image/png": "[encoded data removed]",
      "text/plain": [
       "<Figure size 432x288 with 1 Axes>"
      ]
     },
     "metadata": {},
     "output_type": "display_data"
    },
    {
     "data": {
      "image/png": "[encoded data removed]",
      "text/plain": [
       "<Figure size 432x288 with 1 Axes>"
      ]
     },
     "metadata": {},
     "output_type": "display_data"
    }
   ],
   "source": [
    "# c. Distribution Plot – All Numeric Variables \n",
    "\n",
    "sns.set\n",
    "sns.distplot(ecom['CustomerID'])\n",
    "plt.show()\n",
    "sns.distplot(ecom['Quantity'])\n",
    "plt.show()\n",
    "sns.distplot(ecom['UnitPrice'])\n",
    "plt.show()"
   ]
  },
  {
   "cell_type": "markdown",
   "metadata": {
    "id": "hBoiKjvD-3NT"
   },
   "source": [
    "## d. Aggregation for all numerical Columns \n"
   ]
  },
  {
   "cell_type": "code",
   "execution_count": 8,
   "metadata": {
    "id": "kIx0Q16x-3NU",
    "outputId": "7bb08564-704f-490e-ef3a-d2346b2225a8"
   },
   "outputs": [
    {
     "data": {
      "text/plain": [
       "9.55224954743324"
      ]
     },
     "execution_count": 8,
     "metadata": {},
     "output_type": "execute_result"
    }
   ],
   "source": [
    "ecom.Quantity.mean()"
   ]
  },
  {
   "cell_type": "code",
   "execution_count": 9,
   "metadata": {
    "id": "p-qMhvf0-3NV",
    "outputId": "54e88f34-e843-49e7-c3c0-bdfe965f7afc"
   },
   "outputs": [
    {
     "data": {
      "text/plain": [
       "3.0"
      ]
     },
     "execution_count": 9,
     "metadata": {},
     "output_type": "execute_result"
    }
   ],
   "source": [
    "ecom.Quantity.median()"
   ]
  },
  {
   "cell_type": "code",
   "execution_count": 10,
   "metadata": {
    "id": "ITYdyx2l-3NX",
    "outputId": "79b3d955-99a5-4e21-9219-4aba66b316cc"
   },
   "outputs": [
    {
     "data": {
      "text/plain": [
       "15152.0"
      ]
     },
     "execution_count": 10,
     "metadata": {},
     "output_type": "execute_result"
    }
   ],
   "source": [
    "ecom.CustomerID.median()"
   ]
  },
  {
   "cell_type": "code",
   "execution_count": 11,
   "metadata": {
    "id": "Lo4u6u5--3NZ",
    "outputId": "2c931142-bede-4c19-c920-4a69c14e7f5e"
   },
   "outputs": [
    {
     "data": {
      "text/plain": [
       "15287.690570239585"
      ]
     },
     "execution_count": 11,
     "metadata": {},
     "output_type": "execute_result"
    }
   ],
   "source": [
    "ecom.CustomerID.mean() "
   ]
  },
  {
   "cell_type": "markdown",
   "metadata": {
    "id": "sjnE1KkO-3NZ"
   },
   "source": [
    "## e. Unique Values across all columns"
   ]
  },
  {
   "cell_type": "code",
   "execution_count": 12,
   "metadata": {
    "id": "SkQHt7kg-3Na",
    "outputId": "68e4c2bb-24a1-4235-cd89-db0597598b27"
   },
   "outputs": [
    {
     "name": "stdout",
     "output_type": "stream",
     "text": [
      "[6 17850.0 '536365' ... '12-09-11 12:49' '581587' '12-09-11 12:50']\n"
     ]
    }
   ],
   "source": [
    "column_values = ecom[[\"Quantity\", \"CustomerID\",\"InvoiceNo\",\"StockCode\", \"Description\",\"InvoiceDate\",\"UnitPrice\", \"Country\"]].values.ravel()\n",
    "unique_values =  pd.unique(column_values)\n",
    "\n",
    "print(unique_values)"
   ]
  },
  {
   "cell_type": "markdown",
   "metadata": {
    "id": "L6QGKb8C-3Nb"
   },
   "source": [
    "## f. Duplicate values across all columns"
   ]
  },
  {
   "cell_type": "code",
   "execution_count": 13,
   "metadata": {
    "id": "N6fcNaou-3Nb"
   },
   "outputs": [],
   "source": [
    "duplicated=ecom[ecom.duplicated()]"
   ]
  },
  {
   "cell_type": "code",
   "execution_count": 14,
   "metadata": {
    "id": "MwuXQD4D-3Nb",
    "outputId": "a64d4a09-e7ab-48cc-ccc9-0a7ee4aba1ef"
   },
   "outputs": [
    {
     "data": {
      "text/html": [
       "<div>\n",
       "<style scoped>\n",
       "    .dataframe tbody tr th:only-of-type {\n",
       "        vertical-align: middle;\n",
       "    }\n",
       "\n",
       "    .dataframe tbody tr th {\n",
       "        vertical-align: top;\n",
       "    }\n",
       "\n",
       "    .dataframe thead th {\n",
       "        text-align: right;\n",
       "    }\n",
       "</style>\n",
       "<table border=\"1\" class=\"dataframe\">\n",
       "  <thead>\n",
       "    <tr style=\"text-align: right;\">\n",
       "      <th></th>\n",
       "      <th>InvoiceNo</th>\n",
       "      <th>StockCode</th>\n",
       "      <th>Description</th>\n",
       "      <th>Quantity</th>\n",
       "      <th>InvoiceDate</th>\n",
       "      <th>UnitPrice</th>\n",
       "      <th>CustomerID</th>\n",
       "      <th>Country</th>\n",
       "    </tr>\n",
       "  </thead>\n",
       "  <tbody>\n",
       "    <tr>\n",
       "      <th>517</th>\n",
       "      <td>536409</td>\n",
       "      <td>21866</td>\n",
       "      <td>UNION JACK FLAG LUGGAGE TAG</td>\n",
       "      <td>1</td>\n",
       "      <td>12-01-10 11:45</td>\n",
       "      <td>1.25</td>\n",
       "      <td>17908.0</td>\n",
       "      <td>United Kingdom</td>\n",
       "    </tr>\n",
       "    <tr>\n",
       "      <th>527</th>\n",
       "      <td>536409</td>\n",
       "      <td>22866</td>\n",
       "      <td>HAND WARMER SCOTTY DOG DESIGN</td>\n",
       "      <td>1</td>\n",
       "      <td>12-01-10 11:45</td>\n",
       "      <td>2.10</td>\n",
       "      <td>17908.0</td>\n",
       "      <td>United Kingdom</td>\n",
       "    </tr>\n",
       "    <tr>\n",
       "      <th>537</th>\n",
       "      <td>536409</td>\n",
       "      <td>22900</td>\n",
       "      <td>SET 2 TEA TOWELS I LOVE LONDON</td>\n",
       "      <td>1</td>\n",
       "      <td>12-01-10 11:45</td>\n",
       "      <td>2.95</td>\n",
       "      <td>17908.0</td>\n",
       "      <td>United Kingdom</td>\n",
       "    </tr>\n",
       "    <tr>\n",
       "      <th>539</th>\n",
       "      <td>536409</td>\n",
       "      <td>22111</td>\n",
       "      <td>SCOTTIE DOG HOT WATER BOTTLE</td>\n",
       "      <td>1</td>\n",
       "      <td>12-01-10 11:45</td>\n",
       "      <td>4.95</td>\n",
       "      <td>17908.0</td>\n",
       "      <td>United Kingdom</td>\n",
       "    </tr>\n",
       "    <tr>\n",
       "      <th>555</th>\n",
       "      <td>536412</td>\n",
       "      <td>22327</td>\n",
       "      <td>ROUND SNACK BOXES SET OF 4 SKULLS</td>\n",
       "      <td>1</td>\n",
       "      <td>12-01-10 11:49</td>\n",
       "      <td>2.95</td>\n",
       "      <td>17920.0</td>\n",
       "      <td>United Kingdom</td>\n",
       "    </tr>\n",
       "  </tbody>\n",
       "</table>\n",
       "</div>"
      ],
      "text/plain": [
       "    InvoiceNo StockCode                        Description  Quantity  \\\n",
       "517    536409     21866        UNION JACK FLAG LUGGAGE TAG         1   \n",
       "527    536409     22866      HAND WARMER SCOTTY DOG DESIGN         1   \n",
       "537    536409     22900    SET 2 TEA TOWELS I LOVE LONDON          1   \n",
       "539    536409     22111       SCOTTIE DOG HOT WATER BOTTLE         1   \n",
       "555    536412     22327  ROUND SNACK BOXES SET OF 4 SKULLS         1   \n",
       "\n",
       "        InvoiceDate  UnitPrice  CustomerID         Country  \n",
       "517  12-01-10 11:45       1.25     17908.0  United Kingdom  \n",
       "527  12-01-10 11:45       2.10     17908.0  United Kingdom  \n",
       "537  12-01-10 11:45       2.95     17908.0  United Kingdom  \n",
       "539  12-01-10 11:45       4.95     17908.0  United Kingdom  \n",
       "555  12-01-10 11:49       2.95     17920.0  United Kingdom  "
      ]
     },
     "execution_count": 14,
     "metadata": {},
     "output_type": "execute_result"
    }
   ],
   "source": [
    "duplicated.head()"
   ]
  },
  {
   "cell_type": "markdown",
   "metadata": {
    "id": "omN3bKZn-3Nb"
   },
   "source": [
    "## g. Correlation – Heatmap - All Numeric Variables \n"
   ]
  },
  {
   "cell_type": "code",
   "execution_count": 15,
   "metadata": {
    "id": "8IvagAKu-3Nc",
    "outputId": "d9e2f0f1-de5f-4517-a9e1-464a501c2140"
   },
   "outputs": [
    {
     "data": {
      "text/html": [
       "<div>\n",
       "<style scoped>\n",
       "    .dataframe tbody tr th:only-of-type {\n",
       "        vertical-align: middle;\n",
       "    }\n",
       "\n",
       "    .dataframe tbody tr th {\n",
       "        vertical-align: top;\n",
       "    }\n",
       "\n",
       "    .dataframe thead th {\n",
       "        text-align: right;\n",
       "    }\n",
       "</style>\n",
       "<table border=\"1\" class=\"dataframe\">\n",
       "  <thead>\n",
       "    <tr style=\"text-align: right;\">\n",
       "      <th></th>\n",
       "      <th>Quantity</th>\n",
       "      <th>UnitPrice</th>\n",
       "      <th>CustomerID</th>\n",
       "    </tr>\n",
       "  </thead>\n",
       "  <tbody>\n",
       "    <tr>\n",
       "      <th>Quantity</th>\n",
       "      <td>1.000000</td>\n",
       "      <td>-0.001235</td>\n",
       "      <td>-0.00360</td>\n",
       "    </tr>\n",
       "    <tr>\n",
       "      <th>UnitPrice</th>\n",
       "      <td>-0.001235</td>\n",
       "      <td>1.000000</td>\n",
       "      <td>-0.00456</td>\n",
       "    </tr>\n",
       "    <tr>\n",
       "      <th>CustomerID</th>\n",
       "      <td>-0.003600</td>\n",
       "      <td>-0.004560</td>\n",
       "      <td>1.00000</td>\n",
       "    </tr>\n",
       "  </tbody>\n",
       "</table>\n",
       "</div>"
      ],
      "text/plain": [
       "            Quantity  UnitPrice  CustomerID\n",
       "Quantity    1.000000  -0.001235    -0.00360\n",
       "UnitPrice  -0.001235   1.000000    -0.00456\n",
       "CustomerID -0.003600  -0.004560     1.00000"
      ]
     },
     "execution_count": 15,
     "metadata": {},
     "output_type": "execute_result"
    }
   ],
   "source": [
    "ecom.corr()"
   ]
  },
  {
   "cell_type": "code",
   "execution_count": 16,
   "metadata": {
    "id": "WbUsn7cr-3Nc",
    "outputId": "e3fd1f9a-b9e7-4e75-8b42-e7e32bf83c21"
   },
   "outputs": [
    {
     "data": {
      "text/plain": [
       "<AxesSubplot:>"
      ]
     },
     "execution_count": 16,
     "metadata": {},
     "output_type": "execute_result"
    },
    {
     "data": {
      "image/png": "[encoded data removed]",
      "text/plain": [
       "<Figure size 1080x360 with 2 Axes>"
      ]
     },
     "metadata": {},
     "output_type": "display_data"
    }
   ],
   "source": [
    "plt.figure(figsize=(15,5))\n",
    "sns.heatmap(ecom.corr(),annot=True,linewidths=3,cmap='winter')"
   ]
  },
  {
   "cell_type": "markdown",
   "metadata": {
    "id": "D9utC3sc-3Nc"
   },
   "source": [
    "## h. Regression Plot - All Numeric Variables \n"
   ]
  },
  {
   "cell_type": "code",
   "execution_count": 17,
   "metadata": {
    "id": "6lhlPpT1-3Nd"
   },
   "outputs": [
    {
     "data": {
      "text/plain": [
       "Text(0.5, 1.0, 'Unit Price vs Quantity')"
      ]
     },
     "execution_count": 17,
     "metadata": {},
     "output_type": "execute_result"
    },
    {
     "data": {
      "image/png": "[encoded data removed]",
      "text/plain": [
       "<Figure size 432x288 with 1 Axes>"
      ]
     },
     "metadata": {},
     "output_type": "display_data"
    }
   ],
   "source": [
    "plt.style.use('fivethirtyeight')\n",
    "sns.regplot(data=ecom, x='Quantity',y='UnitPrice')\n",
    "plt.title('Unit Price vs Quantity')"
   ]
  },
  {
   "cell_type": "markdown",
   "metadata": {
    "id": "oYjNknfp-3Nd"
   },
   "source": [
    "##  i. Bar Plot – Every Categorical Variable vs every Numerical Variable "
   ]
  },
  {
   "cell_type": "code",
   "execution_count": 18,
   "metadata": {
    "id": "DbgYQm1P-3Nd",
    "outputId": "13a34e18-f3ce-44ff-e694-55322ac2bffa"
   },
   "outputs": [
    {
     "data": {
      "image/png": "[encoded data removed]",
      "text/plain": [
       "<Figure size 1080x720 with 1 Axes>"
      ]
     },
     "metadata": {},
     "output_type": "display_data"
    }
   ],
   "source": [
    "plt.figure(figsize=(15,10))\n",
    "sns.barplot(x='UnitPrice',y='Country',data=ecom,palette='viridis')\n",
    "plt.title('Country-Wise Unit-Price')\n",
    "plt.show()"
   ]
  },
  {
   "cell_type": "code",
   "execution_count": 19,
   "metadata": {
    "id": "QILGcoJo-3Ne",
    "outputId": "d87425fd-cea8-45cc-e390-9563270f2d72"
   },
   "outputs": [
    {
     "data": {
      "image/png": "[encoded data removed]",
      "text/plain": [
       "<Figure size 1080x720 with 1 Axes>"
      ]
     },
     "metadata": {},
     "output_type": "display_data"
    }
   ],
   "source": [
    "plt.figure(figsize=(15,10))\n",
    "sns.barplot(x='CustomerID',y='Country',data=ecom,palette='viridis')\n",
    "plt.title('Country-Wise IDs')\n",
    "plt.show()"
   ]
  },
  {
   "cell_type": "markdown",
   "metadata": {
    "id": "M78My8u6-3Ne"
   },
   "source": [
    "# 2. Check for missing values in all columns and replace them with the appropriate metric (Mean/Median/Mode) "
   ]
  },
  {
   "cell_type": "code",
   "execution_count": 20,
   "metadata": {
    "id": "bxVQlgAS-3Ne",
    "outputId": "f06953c3-a921-4a1c-b621-9740b32101ed"
   },
   "outputs": [
    {
     "data": {
      "text/plain": [
       "InvoiceNo           0\n",
       "StockCode           0\n",
       "Description      1454\n",
       "Quantity            0\n",
       "InvoiceDate         0\n",
       "UnitPrice           0\n",
       "CustomerID     135080\n",
       "Country             0\n",
       "dtype: int64"
      ]
     },
     "execution_count": 20,
     "metadata": {},
     "output_type": "execute_result"
    }
   ],
   "source": [
    "ecom.isnull().sum()"
   ]
  },
  {
   "cell_type": "code",
   "execution_count": 21,
   "metadata": {
    "id": "ZWZVx-Ab-3Ne",
    "outputId": "9d62d92f-9169-42b8-d716-51b169f16fb3"
   },
   "outputs": [
    {
     "name": "stdout",
     "output_type": "stream",
     "text": [
      "<class 'pandas.core.frame.DataFrame'>\n",
      "RangeIndex: 541909 entries, 0 to 541908\n",
      "Data columns (total 8 columns):\n",
      " #   Column       Non-Null Count   Dtype  \n",
      "---  ------       --------------   -----  \n",
      " 0   InvoiceNo    541909 non-null  object \n",
      " 1   StockCode    541909 non-null  object \n",
      " 2   Description  540455 non-null  object \n",
      " 3   Quantity     541909 non-null  int64  \n",
      " 4   InvoiceDate  541909 non-null  object \n",
      " 5   UnitPrice    541909 non-null  float64\n",
      " 6   CustomerID   406829 non-null  float64\n",
      " 7   Country      541909 non-null  object \n",
      "dtypes: float64(2), int64(1), object(5)\n",
      "memory usage: 33.1+ MB\n"
     ]
    }
   ],
   "source": [
    "ecom.info()"
   ]
  },
  {
   "cell_type": "code",
   "execution_count": 22,
   "metadata": {
    "id": "3tpZ_J2Y-3Nf",
    "outputId": "db05431a-f842-4206-98ed-48b28b330b6b"
   },
   "outputs": [
    {
     "ename": "SyntaxError",
     "evalue": "invalid syntax (<ipython-input-22-ac48689094ac>, line 2)",
     "output_type": "error",
     "traceback": [
      "\u001b[1;36m  File \u001b[1;32m\"<ipython-input-22-ac48689094ac>\"\u001b[1;36m, line \u001b[1;32m2\u001b[0m\n\u001b[1;33m    statistical method of Mode'''\u001b[0m\n\u001b[1;37m                                 \n^\u001b[0m\n\u001b[1;31mSyntaxError\u001b[0m\u001b[1;31m:\u001b[0m invalid syntax\n"
     ]
    }
   ],
   "source": [
    "ecom.Description.fillna(ecom.Description.mode()[0],inplace = False) '''Replacing the missing value from description with suited \n",
    "statistical method of Mode'''"
   ]
  },
  {
   "cell_type": "code",
   "execution_count": 23,
   "metadata": {
    "id": "433Gr4Na-3Nf",
    "outputId": "b844ff10-dfce-4dab-eb02-19644ef0c8f9"
   },
   "outputs": [
    {
     "data": {
      "text/plain": [
       "0         17850.0\n",
       "1         17850.0\n",
       "2         17850.0\n",
       "3         17850.0\n",
       "4         17850.0\n",
       "           ...   \n",
       "541904    12680.0\n",
       "541905    12680.0\n",
       "541906    12680.0\n",
       "541907    12680.0\n",
       "541908    12680.0\n",
       "Name: CustomerID, Length: 541909, dtype: float64"
      ]
     },
     "execution_count": 23,
     "metadata": {},
     "output_type": "execute_result"
    }
   ],
   "source": [
    "ecom.CustomerID.fillna(ecom.CustomerID.median(),inplace=False)"
   ]
  },
  {
   "cell_type": "markdown",
   "metadata": {
    "id": "JmHPTlMs-3Nf"
   },
   "source": [
    "Replacing the missing value from description with suited \n",
    "statistical method of Media due to datatype being float64"
   ]
  },
  {
   "cell_type": "code",
   "execution_count": 24,
   "metadata": {
    "id": "NFUUmTed-3Nf",
    "outputId": "6922b050-3329-45cb-d2bf-5f39ab546700"
   },
   "outputs": [
    {
     "name": "stdout",
     "output_type": "stream",
     "text": [
      "InvoiceNo           0\n",
      "StockCode           0\n",
      "Description      1454\n",
      "Quantity            0\n",
      "InvoiceDate         0\n",
      "UnitPrice           0\n",
      "CustomerID     135080\n",
      "Country             0\n",
      "dtype: int64\n"
     ]
    }
   ],
   "source": [
    "print(ecom.isnull().sum()) # final output with the required Changes"
   ]
  },
  {
   "cell_type": "markdown",
   "metadata": {
    "id": "wJAzQFoH-3Ng"
   },
   "source": [
    "# 3. Remove duplicate rows "
   ]
  },
  {
   "cell_type": "code",
   "execution_count": 25,
   "metadata": {
    "id": "InCMNAIw-3Ng",
    "outputId": "2f02517a-0776-4b3e-cc15-8954aac557ea"
   },
   "outputs": [
    {
     "data": {
      "text/plain": [
       "5268"
      ]
     },
     "execution_count": 25,
     "metadata": {},
     "output_type": "execute_result"
    }
   ],
   "source": [
    "# Finding the duplicate rows\n",
    "\n",
    "ecom.duplicated().sum()"
   ]
  },
  {
   "cell_type": "code",
   "execution_count": 26,
   "metadata": {
    "id": "t3So1yDr-3Nh",
    "outputId": "b5a6cce5-394f-4112-a22c-1a6dbababbfc"
   },
   "outputs": [
    {
     "name": "stdout",
     "output_type": "stream",
     "text": [
      "Following are the duplicate values are:-\n"
     ]
    },
    {
     "data": {
      "text/html": [
       "<div>\n",
       "<style scoped>\n",
       "    .dataframe tbody tr th:only-of-type {\n",
       "        vertical-align: middle;\n",
       "    }\n",
       "\n",
       "    .dataframe tbody tr th {\n",
       "        vertical-align: top;\n",
       "    }\n",
       "\n",
       "    .dataframe thead th {\n",
       "        text-align: right;\n",
       "    }\n",
       "</style>\n",
       "<table border=\"1\" class=\"dataframe\">\n",
       "  <thead>\n",
       "    <tr style=\"text-align: right;\">\n",
       "      <th></th>\n",
       "      <th>InvoiceNo</th>\n",
       "      <th>StockCode</th>\n",
       "      <th>Description</th>\n",
       "      <th>Quantity</th>\n",
       "      <th>InvoiceDate</th>\n",
       "      <th>UnitPrice</th>\n",
       "      <th>CustomerID</th>\n",
       "      <th>Country</th>\n",
       "    </tr>\n",
       "  </thead>\n",
       "  <tbody>\n",
       "    <tr>\n",
       "      <th>517</th>\n",
       "      <td>536409</td>\n",
       "      <td>21866</td>\n",
       "      <td>UNION JACK FLAG LUGGAGE TAG</td>\n",
       "      <td>1</td>\n",
       "      <td>12-01-10 11:45</td>\n",
       "      <td>1.25</td>\n",
       "      <td>17908.0</td>\n",
       "      <td>United Kingdom</td>\n",
       "    </tr>\n",
       "    <tr>\n",
       "      <th>527</th>\n",
       "      <td>536409</td>\n",
       "      <td>22866</td>\n",
       "      <td>HAND WARMER SCOTTY DOG DESIGN</td>\n",
       "      <td>1</td>\n",
       "      <td>12-01-10 11:45</td>\n",
       "      <td>2.10</td>\n",
       "      <td>17908.0</td>\n",
       "      <td>United Kingdom</td>\n",
       "    </tr>\n",
       "    <tr>\n",
       "      <th>537</th>\n",
       "      <td>536409</td>\n",
       "      <td>22900</td>\n",
       "      <td>SET 2 TEA TOWELS I LOVE LONDON</td>\n",
       "      <td>1</td>\n",
       "      <td>12-01-10 11:45</td>\n",
       "      <td>2.95</td>\n",
       "      <td>17908.0</td>\n",
       "      <td>United Kingdom</td>\n",
       "    </tr>\n",
       "    <tr>\n",
       "      <th>539</th>\n",
       "      <td>536409</td>\n",
       "      <td>22111</td>\n",
       "      <td>SCOTTIE DOG HOT WATER BOTTLE</td>\n",
       "      <td>1</td>\n",
       "      <td>12-01-10 11:45</td>\n",
       "      <td>4.95</td>\n",
       "      <td>17908.0</td>\n",
       "      <td>United Kingdom</td>\n",
       "    </tr>\n",
       "    <tr>\n",
       "      <th>555</th>\n",
       "      <td>536412</td>\n",
       "      <td>22327</td>\n",
       "      <td>ROUND SNACK BOXES SET OF 4 SKULLS</td>\n",
       "      <td>1</td>\n",
       "      <td>12-01-10 11:49</td>\n",
       "      <td>2.95</td>\n",
       "      <td>17920.0</td>\n",
       "      <td>United Kingdom</td>\n",
       "    </tr>\n",
       "    <tr>\n",
       "      <th>...</th>\n",
       "      <td>...</td>\n",
       "      <td>...</td>\n",
       "      <td>...</td>\n",
       "      <td>...</td>\n",
       "      <td>...</td>\n",
       "      <td>...</td>\n",
       "      <td>...</td>\n",
       "      <td>...</td>\n",
       "    </tr>\n",
       "    <tr>\n",
       "      <th>541675</th>\n",
       "      <td>581538</td>\n",
       "      <td>22068</td>\n",
       "      <td>BLACK PIRATE TREASURE CHEST</td>\n",
       "      <td>1</td>\n",
       "      <td>12-09-11 11:34</td>\n",
       "      <td>0.39</td>\n",
       "      <td>14446.0</td>\n",
       "      <td>United Kingdom</td>\n",
       "    </tr>\n",
       "    <tr>\n",
       "      <th>541689</th>\n",
       "      <td>581538</td>\n",
       "      <td>23318</td>\n",
       "      <td>BOX OF 6 MINI VINTAGE CRACKERS</td>\n",
       "      <td>1</td>\n",
       "      <td>12-09-11 11:34</td>\n",
       "      <td>2.49</td>\n",
       "      <td>14446.0</td>\n",
       "      <td>United Kingdom</td>\n",
       "    </tr>\n",
       "    <tr>\n",
       "      <th>541692</th>\n",
       "      <td>581538</td>\n",
       "      <td>22992</td>\n",
       "      <td>REVOLVER WOODEN RULER</td>\n",
       "      <td>1</td>\n",
       "      <td>12-09-11 11:34</td>\n",
       "      <td>1.95</td>\n",
       "      <td>14446.0</td>\n",
       "      <td>United Kingdom</td>\n",
       "    </tr>\n",
       "    <tr>\n",
       "      <th>541699</th>\n",
       "      <td>581538</td>\n",
       "      <td>22694</td>\n",
       "      <td>WICKER STAR</td>\n",
       "      <td>1</td>\n",
       "      <td>12-09-11 11:34</td>\n",
       "      <td>2.10</td>\n",
       "      <td>14446.0</td>\n",
       "      <td>United Kingdom</td>\n",
       "    </tr>\n",
       "    <tr>\n",
       "      <th>541701</th>\n",
       "      <td>581538</td>\n",
       "      <td>23343</td>\n",
       "      <td>JUMBO BAG VINTAGE CHRISTMAS</td>\n",
       "      <td>1</td>\n",
       "      <td>12-09-11 11:34</td>\n",
       "      <td>2.08</td>\n",
       "      <td>14446.0</td>\n",
       "      <td>United Kingdom</td>\n",
       "    </tr>\n",
       "  </tbody>\n",
       "</table>\n",
       "<p>5268 rows × 8 columns</p>\n",
       "</div>"
      ],
      "text/plain": [
       "       InvoiceNo StockCode                        Description  Quantity  \\\n",
       "517       536409     21866        UNION JACK FLAG LUGGAGE TAG         1   \n",
       "527       536409     22866      HAND WARMER SCOTTY DOG DESIGN         1   \n",
       "537       536409     22900    SET 2 TEA TOWELS I LOVE LONDON          1   \n",
       "539       536409     22111       SCOTTIE DOG HOT WATER BOTTLE         1   \n",
       "555       536412     22327  ROUND SNACK BOXES SET OF 4 SKULLS         1   \n",
       "...          ...       ...                                ...       ...   \n",
       "541675    581538     22068        BLACK PIRATE TREASURE CHEST         1   \n",
       "541689    581538     23318     BOX OF 6 MINI VINTAGE CRACKERS         1   \n",
       "541692    581538     22992             REVOLVER WOODEN RULER          1   \n",
       "541699    581538     22694                       WICKER STAR          1   \n",
       "541701    581538     23343       JUMBO BAG VINTAGE CHRISTMAS          1   \n",
       "\n",
       "           InvoiceDate  UnitPrice  CustomerID         Country  \n",
       "517     12-01-10 11:45       1.25     17908.0  United Kingdom  \n",
       "527     12-01-10 11:45       2.10     17908.0  United Kingdom  \n",
       "537     12-01-10 11:45       2.95     17908.0  United Kingdom  \n",
       "539     12-01-10 11:45       4.95     17908.0  United Kingdom  \n",
       "555     12-01-10 11:49       2.95     17920.0  United Kingdom  \n",
       "...                ...        ...         ...             ...  \n",
       "541675  12-09-11 11:34       0.39     14446.0  United Kingdom  \n",
       "541689  12-09-11 11:34       2.49     14446.0  United Kingdom  \n",
       "541692  12-09-11 11:34       1.95     14446.0  United Kingdom  \n",
       "541699  12-09-11 11:34       2.10     14446.0  United Kingdom  \n",
       "541701  12-09-11 11:34       2.08     14446.0  United Kingdom  \n",
       "\n",
       "[5268 rows x 8 columns]"
      ]
     },
     "execution_count": 26,
     "metadata": {},
     "output_type": "execute_result"
    }
   ],
   "source": [
    "print(\"Following are the duplicate values are:-\")\n",
    "ecom.loc[ecom.duplicated(),:]"
   ]
  },
  {
   "cell_type": "code",
   "execution_count": 27,
   "metadata": {
    "id": "FZpzmg3w-3Nh"
   },
   "outputs": [],
   "source": [
    "ecom.drop_duplicates(subset=None, keep='first',inplace=True) #deleting the duplicate rows except the original one"
   ]
  },
  {
   "cell_type": "code",
   "execution_count": 28,
   "metadata": {
    "id": "pRIojo63-3Nh",
    "outputId": "b298340e-092d-4d37-d688-899e38db1de7"
   },
   "outputs": [
    {
     "data": {
      "text/plain": [
       "0"
      ]
     },
     "execution_count": 28,
     "metadata": {},
     "output_type": "execute_result"
    }
   ],
   "source": [
    "ecom.duplicated().sum() #evaluating the count of duplicate rows after above analysis"
   ]
  },
  {
   "cell_type": "code",
   "execution_count": 29,
   "metadata": {
    "id": "SXsFhCT8-3Nh",
    "outputId": "138b6e8b-024f-4067-ebd1-8c36c3debd36"
   },
   "outputs": [
    {
     "data": {
      "text/html": [
       "<div>\n",
       "<style scoped>\n",
       "    .dataframe tbody tr th:only-of-type {\n",
       "        vertical-align: middle;\n",
       "    }\n",
       "\n",
       "    .dataframe tbody tr th {\n",
       "        vertical-align: top;\n",
       "    }\n",
       "\n",
       "    .dataframe thead th {\n",
       "        text-align: right;\n",
       "    }\n",
       "</style>\n",
       "<table border=\"1\" class=\"dataframe\">\n",
       "  <thead>\n",
       "    <tr style=\"text-align: right;\">\n",
       "      <th></th>\n",
       "      <th>Quantity</th>\n",
       "      <th>UnitPrice</th>\n",
       "      <th>CustomerID</th>\n",
       "    </tr>\n",
       "  </thead>\n",
       "  <tbody>\n",
       "    <tr>\n",
       "      <th>count</th>\n",
       "      <td>536641.000000</td>\n",
       "      <td>536641.000000</td>\n",
       "      <td>401604.000000</td>\n",
       "    </tr>\n",
       "    <tr>\n",
       "      <th>mean</th>\n",
       "      <td>9.620029</td>\n",
       "      <td>4.632656</td>\n",
       "      <td>15281.160818</td>\n",
       "    </tr>\n",
       "    <tr>\n",
       "      <th>std</th>\n",
       "      <td>219.130156</td>\n",
       "      <td>97.233118</td>\n",
       "      <td>1714.006089</td>\n",
       "    </tr>\n",
       "    <tr>\n",
       "      <th>min</th>\n",
       "      <td>-80995.000000</td>\n",
       "      <td>-11062.060000</td>\n",
       "      <td>12346.000000</td>\n",
       "    </tr>\n",
       "    <tr>\n",
       "      <th>25%</th>\n",
       "      <td>1.000000</td>\n",
       "      <td>1.250000</td>\n",
       "      <td>13939.000000</td>\n",
       "    </tr>\n",
       "    <tr>\n",
       "      <th>50%</th>\n",
       "      <td>3.000000</td>\n",
       "      <td>2.080000</td>\n",
       "      <td>15145.000000</td>\n",
       "    </tr>\n",
       "    <tr>\n",
       "      <th>75%</th>\n",
       "      <td>10.000000</td>\n",
       "      <td>4.130000</td>\n",
       "      <td>16784.000000</td>\n",
       "    </tr>\n",
       "    <tr>\n",
       "      <th>max</th>\n",
       "      <td>80995.000000</td>\n",
       "      <td>38970.000000</td>\n",
       "      <td>18287.000000</td>\n",
       "    </tr>\n",
       "  </tbody>\n",
       "</table>\n",
       "</div>"
      ],
      "text/plain": [
       "            Quantity      UnitPrice     CustomerID\n",
       "count  536641.000000  536641.000000  401604.000000\n",
       "mean        9.620029       4.632656   15281.160818\n",
       "std       219.130156      97.233118    1714.006089\n",
       "min    -80995.000000  -11062.060000   12346.000000\n",
       "25%         1.000000       1.250000   13939.000000\n",
       "50%         3.000000       2.080000   15145.000000\n",
       "75%        10.000000       4.130000   16784.000000\n",
       "max     80995.000000   38970.000000   18287.000000"
      ]
     },
     "execution_count": 29,
     "metadata": {},
     "output_type": "execute_result"
    }
   ],
   "source": [
    "ecom.describe() # Duplciates removed"
   ]
  },
  {
   "cell_type": "markdown",
   "metadata": {
    "id": "kHeBN5Wl-3Ni"
   },
   "source": [
    "# 4. Remove rows which have negative values in Quantity column "
   ]
  },
  {
   "cell_type": "code",
   "execution_count": 30,
   "metadata": {
    "id": "Sz7tVSIH-3Ni",
    "outputId": "0c02b9f2-4be2-4b3f-f916-1f6bdcebc729"
   },
   "outputs": [
    {
     "data": {
      "text/html": [
       "<div>\n",
       "<style scoped>\n",
       "    .dataframe tbody tr th:only-of-type {\n",
       "        vertical-align: middle;\n",
       "    }\n",
       "\n",
       "    .dataframe tbody tr th {\n",
       "        vertical-align: top;\n",
       "    }\n",
       "\n",
       "    .dataframe thead th {\n",
       "        text-align: right;\n",
       "    }\n",
       "</style>\n",
       "<table border=\"1\" class=\"dataframe\">\n",
       "  <thead>\n",
       "    <tr style=\"text-align: right;\">\n",
       "      <th></th>\n",
       "      <th>InvoiceNo</th>\n",
       "      <th>StockCode</th>\n",
       "      <th>Description</th>\n",
       "      <th>Quantity</th>\n",
       "      <th>InvoiceDate</th>\n",
       "      <th>UnitPrice</th>\n",
       "      <th>CustomerID</th>\n",
       "      <th>Country</th>\n",
       "    </tr>\n",
       "  </thead>\n",
       "  <tbody>\n",
       "    <tr>\n",
       "      <th>0</th>\n",
       "      <td>536365</td>\n",
       "      <td>85123A</td>\n",
       "      <td>WHITE HANGING HEART T-LIGHT HOLDER</td>\n",
       "      <td>6</td>\n",
       "      <td>12-01-10 8:26</td>\n",
       "      <td>2.55</td>\n",
       "      <td>17850.0</td>\n",
       "      <td>United Kingdom</td>\n",
       "    </tr>\n",
       "    <tr>\n",
       "      <th>1</th>\n",
       "      <td>536365</td>\n",
       "      <td>71053</td>\n",
       "      <td>WHITE METAL LANTERN</td>\n",
       "      <td>6</td>\n",
       "      <td>12-01-10 8:26</td>\n",
       "      <td>3.39</td>\n",
       "      <td>17850.0</td>\n",
       "      <td>United Kingdom</td>\n",
       "    </tr>\n",
       "    <tr>\n",
       "      <th>2</th>\n",
       "      <td>536365</td>\n",
       "      <td>84406B</td>\n",
       "      <td>CREAM CUPID HEARTS COAT HANGER</td>\n",
       "      <td>8</td>\n",
       "      <td>12-01-10 8:26</td>\n",
       "      <td>2.75</td>\n",
       "      <td>17850.0</td>\n",
       "      <td>United Kingdom</td>\n",
       "    </tr>\n",
       "    <tr>\n",
       "      <th>3</th>\n",
       "      <td>536365</td>\n",
       "      <td>84029G</td>\n",
       "      <td>KNITTED UNION FLAG HOT WATER BOTTLE</td>\n",
       "      <td>6</td>\n",
       "      <td>12-01-10 8:26</td>\n",
       "      <td>3.39</td>\n",
       "      <td>17850.0</td>\n",
       "      <td>United Kingdom</td>\n",
       "    </tr>\n",
       "    <tr>\n",
       "      <th>4</th>\n",
       "      <td>536365</td>\n",
       "      <td>84029E</td>\n",
       "      <td>RED WOOLLY HOTTIE WHITE HEART.</td>\n",
       "      <td>6</td>\n",
       "      <td>12-01-10 8:26</td>\n",
       "      <td>3.39</td>\n",
       "      <td>17850.0</td>\n",
       "      <td>United Kingdom</td>\n",
       "    </tr>\n",
       "  </tbody>\n",
       "</table>\n",
       "</div>"
      ],
      "text/plain": [
       "  InvoiceNo StockCode                          Description  Quantity  \\\n",
       "0    536365    85123A   WHITE HANGING HEART T-LIGHT HOLDER         6   \n",
       "1    536365     71053                  WHITE METAL LANTERN         6   \n",
       "2    536365    84406B       CREAM CUPID HEARTS COAT HANGER         8   \n",
       "3    536365    84029G  KNITTED UNION FLAG HOT WATER BOTTLE         6   \n",
       "4    536365    84029E       RED WOOLLY HOTTIE WHITE HEART.         6   \n",
       "\n",
       "     InvoiceDate  UnitPrice  CustomerID         Country  \n",
       "0  12-01-10 8:26       2.55     17850.0  United Kingdom  \n",
       "1  12-01-10 8:26       3.39     17850.0  United Kingdom  \n",
       "2  12-01-10 8:26       2.75     17850.0  United Kingdom  \n",
       "3  12-01-10 8:26       3.39     17850.0  United Kingdom  \n",
       "4  12-01-10 8:26       3.39     17850.0  United Kingdom  "
      ]
     },
     "execution_count": 30,
     "metadata": {},
     "output_type": "execute_result"
    }
   ],
   "source": [
    "ecom.head()"
   ]
  },
  {
   "cell_type": "markdown",
   "metadata": {
    "id": "l-q3lpUU-3Ni"
   },
   "source": [
    "No Negative values observed in quantity column"
   ]
  },
  {
   "cell_type": "markdown",
   "metadata": {
    "id": "udD578Cp-3Ni"
   },
   "source": [
    "# 5. Add the columns - Month, Day and Hour for the invoice "
   ]
  },
  {
   "cell_type": "code",
   "execution_count": null,
   "metadata": {
    "id": "O5HU4nqr-3Ni"
   },
   "outputs": [],
   "source": [
    "ecom.InvoiceDate=pd.to_datetime(ecom.InvoiceDate) #converting the string column to date datatypes as\n",
    "#observed in above ecom.head()"
   ]
  },
  {
   "cell_type": "code",
   "execution_count": null,
   "metadata": {
    "id": "sh-p4Eel-3Ni",
    "outputId": "ffbc6b66-7d19-4468-e9c9-f4ab8f1d9aed"
   },
   "outputs": [],
   "source": [
    "ecom"
   ]
  },
  {
   "cell_type": "markdown",
   "metadata": {
    "id": "SGSR8Nho-3Nj"
   },
   "source": [
    "# 6. How many orders made by the customers? "
   ]
  },
  {
   "cell_type": "code",
   "execution_count": null,
   "metadata": {
    "id": "jbJU3mJQ-3Nj",
    "outputId": "d250f7ac-976d-4730-bf0c-a2faa8bcf6c8"
   },
   "outputs": [],
   "source": [
    "ecom.groupby(by=['CustomerID','Country'], as_index=False)['InvoiceNo'].count().head()\n",
    "\n",
    "#groupig the customer id and their invoice to exmamin the order made by the customers"
   ]
  },
  {
   "cell_type": "code",
   "execution_count": null,
   "metadata": {
    "id": "5qubhKlV-3Nj",
    "outputId": "ee83c17c-7bd1-4670-8e6b-58de0ba227b3"
   },
   "outputs": [],
   "source": [
    "sns.set()\n",
    "orders = ecom.groupby(by=['CustomerID','Country'], as_index=False)['InvoiceNo'].count()\n",
    "\n",
    "plt.subplots(figsize=(15,6))\n",
    "plt.plot(orders.CustomerID, orders.InvoiceNo)\n",
    "plt.xlabel('Customers ID')\n",
    "plt.ylabel('Number of Orders')\n",
    "plt.title('Count of orders for different Customers')\n",
    "plt.show()"
   ]
  },
  {
   "cell_type": "markdown",
   "metadata": {
    "id": "5dam6z-C-3Nj"
   },
   "source": [
    "# 7. TOP 5 customers with higher number of orders "
   ]
  },
  {
   "cell_type": "code",
   "execution_count": null,
   "metadata": {
    "id": "7BQKrUPz-3Nk",
    "outputId": "34b24e08-9364-4aa7-c14d-bcddf33661a1"
   },
   "outputs": [],
   "source": [
    "print('The TOP 5 customers with max no of orders...')\n",
    "orders.sort_values(by='InvoiceNo', ascending=False).head()"
   ]
  },
  {
   "cell_type": "markdown",
   "metadata": {
    "id": "OOOTMFlW-3Nk"
   },
   "source": [
    "# 8. How much money spent by the customers? "
   ]
  },
  {
   "cell_type": "code",
   "execution_count": null,
   "metadata": {
    "id": "tKTaiMwU-3Nk",
    "outputId": "88435f7b-0d18-4c4b-f247-a610d3001d0b"
   },
   "outputs": [],
   "source": [
    "mkr_gone = ecom.groupby(by=['CustomerID','Country'], as_index=False)['UnitPrice'].sum()\n",
    "\n",
    "sns.set()\n",
    "plt.subplots(figsize=(15,6))\n",
    "plt.plot(mkr_gone.CustomerID, mkr_gone.UnitPrice)\n",
    "plt.xlabel('Customers ID')\n",
    "plt.ylabel('Money spent (Dollar)')\n",
    "plt.title('Money Spent for different Customers')\n",
    "plt.show()"
   ]
  },
  {
   "cell_type": "markdown",
   "metadata": {
    "id": "RcRS0vA7-3Nk"
   },
   "source": [
    "# 9. TOP 5 customers with highest money spent "
   ]
  },
  {
   "cell_type": "code",
   "execution_count": null,
   "metadata": {
    "id": "jZPuV2q2-3Nk",
    "outputId": "2bb59b19-8ace-4a48-8e18-cb51cd3a882c"
   },
   "outputs": [],
   "source": [
    "print('The TOP 5 customers with max no of orders...')\n",
    "mkr_gone.sort_values(by='UnitPrice', ascending=False).head()"
   ]
  },
  {
   "cell_type": "markdown",
   "metadata": {
    "id": "H8RMDVck-3Nl"
   },
   "source": [
    "# 10. How many orders per month? "
   ]
  },
  {
   "cell_type": "code",
   "execution_count": null,
   "metadata": {
    "id": "kA5f9JM--3Nl",
    "outputId": "8ef4e492-78d8-45de-c573-94c30ab8a7b7"
   },
   "outputs": [],
   "source": [
    "sns.set()\n",
    "ax = ecom.groupby('InvoiceNo')['Year_Month'].unique().value_counts().sort_index()\n",
    "ax.plot(kind=\"bar\",title=\"number of orders in month \",fontsize=15)\n",
    "plt.figsize=(15,6)\n",
    "plt.xlabel(\"year_month\",fontsize=15)\n",
    "plt.ylabel(\"number of orders\",fontsize=15)"
   ]
  },
  {
   "cell_type": "markdown",
   "metadata": {
    "id": "3_txvW8e-3Nl"
   },
   "source": [
    "# 11. How many orders per day? "
   ]
  },
  {
   "cell_type": "code",
   "execution_count": null,
   "metadata": {
    "id": "73CQMz5V-3Nl",
    "outputId": "8f3c6fb2-14de-4d94-f7ba-56843c1dcb42"
   },
   "outputs": [],
   "source": [
    "sns.set()\n",
    "pikapika=ecom.groupby('InvoiceNo')['day'].unique().value_counts().sort_index()\n",
    "pikapika.plot(kind=\"bar\", title=\"Number of orders per day\")\n",
    "plt.figsize=(15,6)\n",
    "plt.xlabel('Hour')\n",
    "plt.ylabel('Number of Orders')"
   ]
  },
  {
   "cell_type": "markdown",
   "metadata": {
    "id": "t747xj70-3Nm"
   },
   "source": [
    "# 12. How many orders per hour? "
   ]
  },
  {
   "cell_type": "code",
   "execution_count": null,
   "metadata": {
    "id": "6Ns3-uUy-3Nm",
    "outputId": "ec91a0de-443d-4a2a-935a-2a0d1ea8c279"
   },
   "outputs": [],
   "source": [
    "sns.set()\n",
    "syduck=ecom.groupby('InvoiceNo')['hour'].unique().value_counts().iloc[:-1].sort_index()\n",
    "syduck.plot(kind=\"bar\",title=\"Number of orders per hour\")\n",
    "plt.xlabel('Hours')\n",
    "plt.ylabel('Number of orders')\n",
    "plt.show()"
   ]
  },
  {
   "cell_type": "markdown",
   "metadata": {
    "id": "izsdpTTS-3Nm"
   },
   "source": [
    "# 13. How many orders for each country? "
   ]
  },
  {
   "cell_type": "code",
   "execution_count": null,
   "metadata": {
    "id": "gsL9lMzw-3Nm",
    "outputId": "5dd6da15-5a56-438f-a4f3-5240a6d8b09b"
   },
   "outputs": [],
   "source": [
    "sns.set()\n",
    "group_country_orders = ecom.groupby('Country')['InvoiceNo'].count().sort_values()\n",
    "\n",
    "# plot number of unique customers in each country\n",
    "plt.subplots(figsize=(15,8))\n",
    "group_country_orders.plot(kind='barh')\n",
    "plt.xlabel('Number of Orders')\n",
    "plt.ylabel('Country')\n",
    "plt.title('Number of Orders for different Countries')\n",
    "plt.show()"
   ]
  },
  {
   "cell_type": "markdown",
   "metadata": {
    "id": "im8Ozx_S-3Nn"
   },
   "source": [
    "# 14. Orders trend across months "
   ]
  },
  {
   "cell_type": "code",
   "execution_count": null,
   "metadata": {
    "id": "FigRin8O-3Nn",
    "outputId": "9db6898a-b963-438c-b474-792d500675b6"
   },
   "outputs": [],
   "source": [
    "sns.set()\n",
    "group_country_orders = ecom.groupby('Country')['InvoiceNo'].count().sort_values()\n",
    "\n",
    "plt.subplots(figsize=(15,8))\n",
    "group_country_orders.plot(kind='barh',fontsize=12)\n",
    "plt.xlabel('Number of Orders',fontsize=12)\n",
    "plt.ylabel('Country',fontsize=12)\n",
    "plt.title('Number of Orders for different Countries',fontsize=12)\n",
    "plt.show()"
   ]
  },
  {
   "cell_type": "code",
   "execution_count": null,
   "metadata": {
    "id": "oX2_PsZA-3Nn",
    "outputId": "aafd7972-19ce-4e5a-bcd4-5df38e764842"
   },
   "outputs": [],
   "source": [
    "sns.set()\n",
    "group_country_orders = ecom.groupby('Country')['InvoiceNo'].count().sort_values()\n",
    "del group_country_orders['United Kingdom']\n",
    "\n",
    "# plot number of unique customers in each country without United Kingdom\n",
    "\n",
    "plt.subplots(figsize=(15,8))\n",
    "group_country_orders.plot(kind='barh',fontsize=12)\n",
    "plt.xlabel('Number of Orders',fontsize=12)\n",
    "plt.ylabel('Country',fontsize=12)\n",
    "plt.title('Number of Orders for different Countries',fontsize=12)\n",
    "plt.show()"
   ]
  },
  {
   "cell_type": "markdown",
   "metadata": {
    "id": "mg_0dEBJ-3Nn"
   },
   "source": [
    "# 15. How much money spent by each country? "
   ]
  },
  {
   "cell_type": "code",
   "execution_count": null,
   "metadata": {
    "id": "9MASnoOb-3Nn",
    "outputId": "21da9278-f271-4683-f81e-0eb614aa1b56"
   },
   "outputs": [],
   "source": [
    "sns.set()\n",
    "panda_money = ecom.groupby('Country')['UnitPrice'].sum().sort_values()\n",
    "\n",
    "# plot number of unique customers in each country\n",
    "plt.subplots(figsize=(15,8))\n",
    "panda_money.plot(kind='barh', fontsize=12)\n",
    "plt.xlabel('Money Spent (Dollar)', fontsize=12)\n",
    "plt.ylabel('Country', fontsize=12)\n",
    "plt.title('Money Spent by different Countries', fontsize=12)\n",
    "plt.show()"
   ]
  },
  {
   "cell_type": "markdown",
   "metadata": {
    "id": "m0Xt89al-3No"
   },
   "source": [
    "# Again the data is skewed towards United Kingdom, removing it to find better clarity with other countries"
   ]
  },
  {
   "cell_type": "code",
   "execution_count": null,
   "metadata": {
    "id": "ArweWJr9-3No",
    "outputId": "ba961316-29d0-40a7-e6be-6ee6c5cfee6c"
   },
   "outputs": [],
   "source": [
    "panda_money = ecom.groupby('Country')['UnitPrice'].sum().sort_values()\n",
    "del panda_money['United Kingdom']\n",
    "\n",
    "# plot number of unique customers in each country\n",
    "plt.subplots(figsize=(15,8))\n",
    "panda_money.plot(kind='barh', fontsize=12)\n",
    "plt.xlabel('Money Spent (Dollar)', fontsize=12)\n",
    "plt.ylabel('Country', fontsize=12)\n",
    "plt.title('Money Spent by different Countries', fontsize=12)\n",
    "plt.show()"
   ]
  }
 ],
 "metadata": {
  "colab": {
   "name": "RAMIZ Ecom Python Project 2.ipynb",
   "provenance": []
  },
  "kernelspec": {
   "display_name": "Python 3",
   "language": "python",
   "name": "python3"
  },
  "language_info": {
   "codemirror_mode": {
    "name": "ipython",
    "version": 3
   },
   "file_extension": ".py",
   "mimetype": "text/x-python",
   "name": "python",
   "nbconvert_exporter": "python",
   "pygments_lexer": "ipython3",
   "version": "3.8.5"
  }
 },
 "nbformat": 4,
 "nbformat_minor": 1
}
